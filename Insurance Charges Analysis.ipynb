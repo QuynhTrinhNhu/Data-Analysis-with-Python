{
 "cells": [
  {
   "cell_type": "code",
   "execution_count": null,
   "id": "5db8c901",
   "metadata": {},
   "outputs": [],
   "source": [
    "# Import libraries\n",
    "import numpy as np\n",
    "import pandas as pd\n",
    "\n",
    "import matplotlib.pyplot as plt\n",
    "%matplotlib inline\n",
    "\n",
    "import seaborn as sns\n",
    "sns.set_theme(style='white')\n",
    "# Set global figure size for all plots in the notebook\n",
    "plt.rcParams[\"figure.figsize\"] = (6, 4)"
   ]
  },
  {
   "attachments": {
    "image.png": {
     "image/png": "[encoded data removed]"
    }
   },
   "cell_type": "markdown",
   "id": "562308a9",
   "metadata": {},
   "source": [
    "![image.png](attachment:image.png)"
   ]
  },
  {
   "cell_type": "code",
   "execution_count": null,
   "id": "cb075e9e",
   "metadata": {},
   "outputs": [],
   "source": [
    "# Set file path\n",
    "path = r\"C:\\Users\\TrinhQuynh\\DA_Learning\\Python\\Projects\\Course End Projects\\CEP 2\\insurance.csv\""
   ]
  },
  {
   "cell_type": "code",
   "execution_count": null,
   "id": "f3918fce",
   "metadata": {},
   "outputs": [],
   "source": [
    "# Load the data file\n",
    "df = pd.read_csv(path)"
   ]
  },
  {
   "cell_type": "code",
   "execution_count": null,
   "id": "9c6e07f1",
   "metadata": {},
   "outputs": [],
   "source": [
    "# Show all rows\n",
    "pd.set_option(\"display.max_rows\", None)\n",
    "df"
   ]
  },
  {
   "cell_type": "markdown",
   "id": "0748bdad",
   "metadata": {},
   "source": [
    "### Identify strange values in the dataset"
   ]
  },
  {
   "cell_type": "code",
   "execution_count": null,
   "id": "1063c232",
   "metadata": {
    "scrolled": true
   },
   "outputs": [],
   "source": [
    "# Check unique values\n",
    "unique_val = df.apply(lambda x: x.unique())\n",
    "unique_val"
   ]
  },
  {
   "cell_type": "markdown",
   "id": "5b8756fa",
   "metadata": {},
   "source": [
    "##### -> There is no strange values in object cols"
   ]
  },
  {
   "cell_type": "code",
   "execution_count": null,
   "id": "24c76dd8",
   "metadata": {},
   "outputs": [],
   "source": [
    "# Remove dupplicates if any\n",
    "\n",
    "df.drop_duplicates(inplace=True)"
   ]
  },
  {
   "cell_type": "markdown",
   "id": "9c75e23c",
   "metadata": {},
   "source": [
    "### Discover Data"
   ]
  },
  {
   "cell_type": "code",
   "execution_count": null,
   "id": "29b00a05",
   "metadata": {},
   "outputs": [],
   "source": [
    "df.info()"
   ]
  },
  {
   "cell_type": "code",
   "execution_count": null,
   "id": "ec9300a1",
   "metadata": {
    "scrolled": true
   },
   "outputs": [],
   "source": [
    "df.shape"
   ]
  },
  {
   "cell_type": "code",
   "execution_count": null,
   "id": "3ab2dc78",
   "metadata": {
    "scrolled": true
   },
   "outputs": [],
   "source": [
    "df.describe(include='object')"
   ]
  },
  {
   "cell_type": "code",
   "execution_count": null,
   "id": "8e0ae1fd",
   "metadata": {
    "scrolled": true
   },
   "outputs": [],
   "source": [
    "df.describe(include='number')"
   ]
  },
  {
   "cell_type": "markdown",
   "id": "a7849166",
   "metadata": {},
   "source": [
    "### Check if there are any null values"
   ]
  },
  {
   "cell_type": "code",
   "execution_count": null,
   "id": "68562e17",
   "metadata": {
    "scrolled": true
   },
   "outputs": [],
   "source": [
    "df.isnull().sum()"
   ]
  },
  {
   "cell_type": "markdown",
   "id": "7d58ea23",
   "metadata": {},
   "source": [
    "=> There is no null values"
   ]
  },
  {
   "cell_type": "code",
   "execution_count": null,
   "id": "d0b4d695",
   "metadata": {
    "scrolled": false
   },
   "outputs": [],
   "source": [
    "df.columns"
   ]
  },
  {
   "cell_type": "markdown",
   "id": "f1c3b176",
   "metadata": {},
   "source": [
    "## Analysis"
   ]
  },
  {
   "cell_type": "markdown",
   "id": "1d145afe",
   "metadata": {},
   "source": [
    "### 1. Charges columns"
   ]
  },
  {
   "cell_type": "code",
   "execution_count": null,
   "id": "025ef169",
   "metadata": {
    "scrolled": true
   },
   "outputs": [],
   "source": [
    "df['charges'].describe()"
   ]
  },
  {
   "cell_type": "code",
   "execution_count": null,
   "id": "6e21ef39",
   "metadata": {
    "scrolled": false
   },
   "outputs": [],
   "source": [
    "# Distribution of charges\n",
    "sns.histplot(df['charges'], kde=True, color='r', stat='density', bins=20)\n",
    "\n",
    "plt.title('Distribution of charges')\n",
    "plt.show()\n",
    "plt.close()"
   ]
  },
  {
   "cell_type": "markdown",
   "id": "2f1eeb9b",
   "metadata": {},
   "source": [
    "### 2. Explore the relationship between the feature and target column "
   ]
  },
  {
   "cell_type": "markdown",
   "id": "2afe1f32",
   "metadata": {},
   "source": [
    "#### Evaluate age"
   ]
  },
  {
   "cell_type": "code",
   "execution_count": null,
   "id": "26256294",
   "metadata": {
    "scrolled": true
   },
   "outputs": [],
   "source": [
    "sns.histplot(data=df, x='age', color='b', kde=True)"
   ]
  },
  {
   "cell_type": "code",
   "execution_count": null,
   "id": "e2a5bd8b",
   "metadata": {},
   "outputs": [],
   "source": [
    "# Which age the the Charge is highest\n",
    "\n",
    "df.loc[df['charges']==df['charges'].max(),'age']"
   ]
  },
  {
   "cell_type": "code",
   "execution_count": null,
   "id": "3059a043",
   "metadata": {
    "scrolled": false
   },
   "outputs": [],
   "source": [
    "# Charges vs Age on Gender\n",
    "\n",
    "sns.lmplot(data=df, x='age', y='charges', hue='sex')\n",
    "plt.show()"
   ]
  },
  {
   "cell_type": "markdown",
   "id": "9343afc7",
   "metadata": {},
   "source": [
    "=> There is no significant difference between genders in terms of who pays for insurace"
   ]
  },
  {
   "cell_type": "code",
   "execution_count": null,
   "id": "5fa01784",
   "metadata": {
    "scrolled": true
   },
   "outputs": [],
   "source": [
    "# Charges vs Age on Smoker\n",
    "\n",
    "sns.lmplot(data=df, x='age', y='charges', hue='smoker')\n",
    "\n",
    "plt.title('Charges vs Age on Smoker')\n",
    "plt.show()"
   ]
  },
  {
   "cell_type": "markdown",
   "id": "09cb1196",
   "metadata": {},
   "source": [
    "=> Again people who smoke souds having to pay more insurance charges"
   ]
  },
  {
   "cell_type": "markdown",
   "id": "179bcbd1",
   "metadata": {},
   "source": [
    "#### Evaluate BMI"
   ]
  },
  {
   "cell_type": "code",
   "execution_count": null,
   "id": "9a8f6e52",
   "metadata": {},
   "outputs": [],
   "source": [
    "# Distribution of BMI\n",
    "\n",
    "sns.histplot(data=df, x='bmi', color='b', kde=True)\n",
    "plt.title('Distribution of BMI')\n",
    "\n",
    "plt.show()\n",
    "plt.close()"
   ]
  },
  {
   "cell_type": "markdown",
   "id": "240495cc",
   "metadata": {},
   "source": [
    "=> BMI data is perfectly normal distribution"
   ]
  },
  {
   "cell_type": "code",
   "execution_count": null,
   "id": "f9e1a6eb",
   "metadata": {},
   "outputs": [],
   "source": [
    "# Charges vs BMI\n",
    "\n",
    "sns.regplot(data=df, x='bmi', y='charges')\n",
    "plt.show()"
   ]
  },
  {
   "cell_type": "code",
   "execution_count": null,
   "id": "49c42a88",
   "metadata": {
    "scrolled": true
   },
   "outputs": [],
   "source": [
    "# Charges vs BMI on smoker\n",
    "\n",
    "sns.scatterplot(data=df, x='bmi', y='charges', hue='smoker')"
   ]
  },
  {
   "cell_type": "code",
   "execution_count": null,
   "id": "4ca1ba20",
   "metadata": {
    "scrolled": true
   },
   "outputs": [],
   "source": [
    "sns.displot(df[(df.bmi>=30)]['charges'])"
   ]
  },
  {
   "cell_type": "code",
   "execution_count": null,
   "id": "650afd14",
   "metadata": {
    "scrolled": true
   },
   "outputs": [],
   "source": [
    "sns.displot(df[(df.bmi<30)]['charges'])"
   ]
  },
  {
   "cell_type": "markdown",
   "id": "ebc6cc63",
   "metadata": {},
   "source": [
    "=> People who are obese tend to pay more "
   ]
  },
  {
   "cell_type": "markdown",
   "id": "1b211d87",
   "metadata": {},
   "source": [
    "#### Evalueate Region"
   ]
  },
  {
   "cell_type": "code",
   "execution_count": null,
   "id": "5ab7900b",
   "metadata": {
    "scrolled": true
   },
   "outputs": [],
   "source": [
    "# Charges vs Region:\n",
    "\n",
    "sns.boxplot(data=df, x='region', y='charges')"
   ]
  },
  {
   "cell_type": "markdown",
   "id": "7d63b586",
   "metadata": {},
   "source": [
    "### 3. Perform data visualization using plots of feature vs feature"
   ]
  },
  {
   "cell_type": "code",
   "execution_count": null,
   "id": "4c539389",
   "metadata": {},
   "outputs": [],
   "source": [
    "# Target\n",
    "Y = df['charges']\n",
    "# Features\n",
    "X = df.drop(columns = 'charges')\n",
    "X.head()\n"
   ]
  },
  {
   "cell_type": "code",
   "execution_count": null,
   "id": "55885870",
   "metadata": {
    "scrolled": true
   },
   "outputs": [],
   "source": [
    "sns.countplot(data=df, x='sex')\n",
    "plt.title('Gender Distribution')\n",
    "plt.show()\n",
    "plt.close()"
   ]
  },
  {
   "cell_type": "markdown",
   "id": "ca35004b",
   "metadata": {},
   "source": [
    "=> The dataset is equally distributed between Gender"
   ]
  },
  {
   "cell_type": "code",
   "execution_count": null,
   "id": "98f98065",
   "metadata": {
    "scrolled": true
   },
   "outputs": [],
   "source": [
    "sns.countplot(data=df, x='region')\n",
    "plt.title('Region Distribution')\n",
    "plt.show()\n",
    "plt.close()"
   ]
  },
  {
   "cell_type": "markdown",
   "id": "de9a59fd",
   "metadata": {},
   "source": [
    "=> There are diffences in each region but not significant"
   ]
  },
  {
   "cell_type": "code",
   "execution_count": null,
   "id": "d5e93b65",
   "metadata": {
    "scrolled": true
   },
   "outputs": [],
   "source": [
    "sns.countplot(data=df, x='smoker')\n",
    "plt.title('Smoker Distribution')\n",
    "plt.show()\n",
    "plt.close()"
   ]
  },
  {
   "cell_type": "markdown",
   "id": "fb8e8e26",
   "metadata": {},
   "source": [
    "=> Majority of the people in the dataset are not smoker"
   ]
  },
  {
   "cell_type": "code",
   "execution_count": null,
   "id": "83e6028e",
   "metadata": {},
   "outputs": [],
   "source": [
    "# Check if people in their 18 \n",
    "\n",
    "sns.catplot(data=df[(df.age==18)], x='smoker', kind='count', hue = 'sex')"
   ]
  },
  {
   "cell_type": "code",
   "execution_count": null,
   "id": "4681bc49",
   "metadata": {},
   "outputs": [],
   "source": [
    "sns.barplot(x='sex', y='charges', hue='smoker', data=df[(df.age==18)])"
   ]
  },
  {
   "cell_type": "markdown",
   "id": "623923bc",
   "metadata": {},
   "source": [
    "=> Again people who smoke souds having to pay more insurance charges"
   ]
  },
  {
   "cell_type": "code",
   "execution_count": null,
   "id": "7aa8e276",
   "metadata": {
    "scrolled": true
   },
   "outputs": [],
   "source": [
    "# Which region contain the highest charges\n",
    "\n",
    "y=df.groupby('region')['charges'].mean().sort_values()\n",
    "y"
   ]
  },
  {
   "cell_type": "code",
   "execution_count": null,
   "id": "ee560eb5",
   "metadata": {},
   "outputs": [],
   "source": [
    "sns.barplot(data=df, x='region', y='charges')"
   ]
  },
  {
   "cell_type": "markdown",
   "id": "877cd91b",
   "metadata": {},
   "source": [
    "### 4. Machine Learning"
   ]
  },
  {
   "cell_type": "markdown",
   "id": "acd036d8",
   "metadata": {},
   "source": [
    "Step 1: Feature Engineering"
   ]
  },
  {
   "cell_type": "code",
   "execution_count": null,
   "id": "19efcb42",
   "metadata": {},
   "outputs": [],
   "source": [
    "# Transfrom catergorical features using Ordinal Encoder (Label incoder using for target)\n",
    "\n",
    "from sklearn.preprocessing import OrdinalEncoder\n",
    "enc = OrdinalEncoder()\n",
    "\n",
    "df[['sex', 'region', 'smoker']]=enc.fit_transform(df[['sex', 'region', 'smoker']])"
   ]
  },
  {
   "cell_type": "code",
   "execution_count": null,
   "id": "0d16fede",
   "metadata": {
    "scrolled": true
   },
   "outputs": [],
   "source": [
    "df.head()"
   ]
  },
  {
   "cell_type": "markdown",
   "id": "4499744b",
   "metadata": {},
   "source": [
    "Step 2: Feature Selection"
   ]
  },
  {
   "cell_type": "code",
   "execution_count": null,
   "id": "6f8f5e85",
   "metadata": {},
   "outputs": [],
   "source": [
    "sns.heatmap(df.corr(), annot=True)"
   ]
  },
  {
   "cell_type": "code",
   "execution_count": null,
   "id": "f18f9724",
   "metadata": {
    "scrolled": false
   },
   "outputs": [],
   "source": [
    "# Check which features are most related to charges\n",
    "df.corr()['charges'].sort_values()"
   ]
  },
  {
   "cell_type": "code",
   "execution_count": null,
   "id": "9df3961b",
   "metadata": {},
   "outputs": [],
   "source": [
    "# from sklearn.feature_selection import VarianceThreshold\n",
    "# var_thres = VarianceThreshold(threshold=0.9)\n",
    "# var_thres.fit(df)"
   ]
  },
  {
   "cell_type": "code",
   "execution_count": null,
   "id": "7b39d5f3",
   "metadata": {
    "scrolled": false
   },
   "outputs": [],
   "source": [
    "# var_thres.get_support()"
   ]
  },
  {
   "cell_type": "code",
   "execution_count": null,
   "id": "eb722aa7",
   "metadata": {},
   "outputs": [],
   "source": [
    "# Detemine Features (X) and Taget(Y)\n",
    "\n",
    "X = df[['age', 'bmi',  'smoker']]\n",
    "Y = df['charges']\n",
    "X.head()"
   ]
  },
  {
   "cell_type": "code",
   "execution_count": null,
   "id": "bf7f1791",
   "metadata": {},
   "outputs": [],
   "source": [
    "# Import Train-test model\n",
    "\n",
    "from sklearn.model_selection import train_test_split\n",
    "Xtrain, Xtest, Ytrain, Ytest = train_test_split(X,Y, test_size=0.3, random_state=0)"
   ]
  },
  {
   "cell_type": "code",
   "execution_count": null,
   "id": "15be5e1a",
   "metadata": {},
   "outputs": [],
   "source": [
    "# Scale X\n",
    "\n",
    "from sklearn.preprocessing import StandardScaler\n",
    "scaler = StandardScaler()\n",
    "\n",
    "scaled_Xtrain = scaler.fit_transform(Xtrain)\n",
    "scaled_Xtest = scaler.fit_transform(Xtest)"
   ]
  },
  {
   "cell_type": "code",
   "execution_count": null,
   "id": "1399db30",
   "metadata": {},
   "outputs": [],
   "source": [
    "# Define a function to get the model results easily\n",
    "\n",
    "from sklearn.metrics import mean_absolute_error, mean_squared_error\n",
    "def modelresult(prediction):\n",
    "    print('Mean Absolute Error on the Model is:', mean_absolute_error(Ytest, prediction))\n",
    "    print('Root Mean Square Error on the Model is:', np.sqrt(mean_absolute_error(Ytest, prediction)))"
   ]
  },
  {
   "cell_type": "markdown",
   "id": "6e8fdb9a",
   "metadata": {},
   "source": [
    "#### Build models"
   ]
  },
  {
   "cell_type": "code",
   "execution_count": null,
   "id": "39923ae4",
   "metadata": {},
   "outputs": [],
   "source": [
    "# Liner Model\n",
    "\n",
    "from sklearn.linear_model import LinearRegression\n",
    "lr = LinearRegression()\n",
    "\n",
    "    # Train the model\n",
    "lr.fit(scaled_Xtrain, Ytrain)"
   ]
  },
  {
   "cell_type": "code",
   "execution_count": null,
   "id": "6b678d89",
   "metadata": {},
   "outputs": [],
   "source": [
    "from sklearn.model_selection import cross_val_score\n",
    "cross_val_score(lr,scaled_Xtrain,Ytrain,cv=5)"
   ]
  },
  {
   "cell_type": "code",
   "execution_count": null,
   "id": "b73a97a6",
   "metadata": {},
   "outputs": [],
   "source": [
    "pred = lr.predict(scaled_Xtest)\n",
    "modelresult(pred)"
   ]
  }
 ],
 "metadata": {
  "kernelspec": {
   "display_name": "Python 3 (ipykernel)",
   "language": "python",
   "name": "python3"
  },
  "language_info": {
   "codemirror_mode": {
    "name": "ipython",
    "version": 3
   },
   "file_extension": ".py",
   "mimetype": "text/x-python",
   "name": "python",
   "nbconvert_exporter": "python",
   "pygments_lexer": "ipython3",
   "version": "3.11.5"
  }
 },
 "nbformat": 4,
 "nbformat_minor": 5
}
